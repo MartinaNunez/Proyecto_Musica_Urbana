{
  "nbformat": 4,
  "nbformat_minor": 0,
  "metadata": {
    "colab": {
      "provenance": []
    },
    "kernelspec": {
      "name": "python3",
      "display_name": "Python 3"
    },
    "language_info": {
      "name": "python"
    }
  },
  "cells": [
    {
      "cell_type": "code",
      "source": [
        "import pandas as pd\n",
        "\n",
        "# Lista con los nombres de los archivos CSV\n",
        "filenames = [\n",
        "    \"Colombia_limpio.csv\", \"Global_limpio.csv\", \"España_limpio.csv\",\n",
        "    \"Guatemala_limpio.csv\", \"Honduras_limpio.csv\", \"Mexico_limpio.csv\",\n",
        "    \"Argentina_limpio.csv\", \"Chile_limpio.csv\"\n",
        "]\n",
        "\n",
        "# Ruta de la carpeta que contiene los archivos CSV\n",
        "carpeta = \"/content/drive/MyDrive/BASES DE DATOS/\"\n",
        "\n",
        "# Lista para almacenar los DataFrames\n",
        "dataframes = []\n",
        "#Se usa el for para que considere todos los nombres de los archivos\n",
        "for filename in filenames:\n",
        "    # Construye la ruta completa del archivo CSV\n",
        "    file_path = f\"{carpeta}{filename}\"\n",
        "\n",
        "    # Lee el archivo CSV y agrega la columna \"archivo\"\n",
        "    df = pd.read_csv(file_path)\n",
        "    df[\"archivo\"] = filename\n",
        "    dataframes.append(df)\n",
        "\n",
        "# Combina los DataFrames en uno solo\n",
        "df_merged = pd.concat(dataframes, ignore_index=True)\n",
        "\n",
        "# Guardamos el resultado en un nuevo archivo CSV\n",
        "df_merged.to_csv(\"/content/drive/MyDrive/BASES DE DATOS/archivo_final.csv\", index=False)\n",
        "\n"
      ],
      "metadata": {
        "id": "YkvHCq6fSUzp",
        "outputId": "a36c1968-1635-4322-abe5-58bafa285317",
        "colab": {
          "base_uri": "https://localhost:8080/"
        }
      },
      "execution_count": null,
      "outputs": [
        {
          "output_type": "stream",
          "name": "stdout",
          "text": [
            "Archivos combinados exitosamente.\n"
          ]
        }
      ]
    }
  ]
}