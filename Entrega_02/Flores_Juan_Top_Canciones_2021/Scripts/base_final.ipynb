{
  "nbformat": 4,
  "nbformat_minor": 0,
  "metadata": {
    "colab": {
      "provenance": []
    },
    "kernelspec": {
      "name": "python3",
      "display_name": "Python 3"
    },
    "language_info": {
      "name": "python"
    }
  },
  "cells": [
    {
      "cell_type": "code",
      "execution_count": null,
      "metadata": {
        "id": "2YV3i5-7umVc"
      },
      "outputs": [],
      "source": [
        "import pandas as pd\n",
        "#Llamamos la base de datos combinada y limpia\n",
        "base_original = pd.read_csv ('/content/drive/MyDrive/BASES DE DATOS/archivo_final_2021.csv')\n",
        "#Filtramos por los artistas chilenos que aparecen en el top de Chile. Esto en el año que nos tocó\n",
        "artistas_chilenos = [\"Pailita\", \"Polimá Westcoast\", \"Paloma Mami\", \"Cris Mj\", \"Ak4:20\", \"Marcianeke\", \"Harry Nach\", \"Pablo Chill-E\", \"Julianno Sosa\", \"Balbi El Chamako\", \"Drago200\", \"Simon la Letra\", \"Galee Galee\"]\n",
        "#Creamos la condición de que en la base original para que buscque como texto los nombres antes dados. Fijamos que no considere si es mayúscula o minúscula, y que no tome en cuenta los valores nulos\n",
        "condicion = base_original[\"artist_names\"].str.contains ('|'.join(artistas_chilenos), case=False, na=False )\n",
        "#Decimos que los resultados es igual a la base anterior, considerando la condición\n",
        "resultados = base_original.loc [condicion]\n",
        "#Pedimos que ordene los resultados\n",
        "resultados_ordenados = resultados.sort_values (by= [\"archivo\", \"artist_names\", \"track_name\", \"peak_rank\", \"weeks_on_chart\", \"streams\" ])\n",
        "#Guardamos el archivo\n",
        "ruta_guardado = '/content/drive/MyDrive/BASES DE DATOS/ lista_chilenos.csv'\n",
        "resultados_ordenados.to_csv (ruta_guardado, index=False)\n"
      ]
    }
  ]
}