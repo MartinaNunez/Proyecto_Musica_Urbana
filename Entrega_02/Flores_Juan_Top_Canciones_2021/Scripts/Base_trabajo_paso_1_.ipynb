{
  "nbformat": 4,
  "nbformat_minor": 0,
  "metadata": {
    "colab": {
      "provenance": []
    },
    "kernelspec": {
      "name": "python3",
      "display_name": "Python 3"
    },
    "language_info": {
      "name": "python"
    }
  },
  "cells": [
    {
      "cell_type": "code",
      "execution_count": null,
      "metadata": {
        "id": "Px2wqP5X7guu"
      },
      "outputs": [],
      "source": [
        "#Importamos la libreria pandas\n",
        "import pandas as pd\n",
        "#Definimos la variable Chile con la función read_csv para que lea la ubicación del archivo original\n",
        "Chile = pd.read_csv ('/content/drive/MyDrive/Grafica 2/Chile.csv')\n",
        "#Establecemos que la variable Chile_limpio es igual a Chile con la variable drop. Definimos las columnas a eliminar\n",
        "Chile_limpio= Chile.drop(['uri', 'source', 'previous_rank'], axis=1)\n",
        "#Guardamos el archivo en la ruta de acceso definida\n",
        "Chile_limpio.to_csv ('/content/drive/MyDrive/Grafica 2/Chile_limpio.csv')\n",
        "\n"
      ]
    },
    {
      "cell_type": "markdown",
      "source": [
        "En cada base repetimos el mismo proceso"
      ],
      "metadata": {
        "id": "mjhAL0LxA796"
      }
    },
    {
      "cell_type": "code",
      "execution_count": null,
      "metadata": {
        "id": "FEVPY7K4xn6x"
      },
      "outputs": [],
      "source": [
        "import pandas as pd\n",
        "\n",
        "Argentina = pd.read_csv ('/content/drive/MyDrive/Grafica 2/Argentina.csv')\n",
        "\n",
        "Argentina_limpio = Argentina.drop(['uri', 'source', 'previous_rank'], axis=1)\n",
        "\n",
        "Argentina_limpio.to_csv ('/content/drive/MyDrive/Grafica 2/Argentina_limpio.csv')\n",
        "\n",
        "\n",
        "\n",
        "\n",
        "\n",
        "\n",
        "\n"
      ]
    },
    {
      "cell_type": "code",
      "source": [
        "import pandas as pd\n",
        "\n",
        "Colombia = pd.read_csv ('/content/drive/MyDrive/Grafica 2/Colombia.csv')\n",
        "\n",
        "Colombia_limpio= Colombia.drop(['uri', 'source', 'previous_rank'], axis=1)\n",
        "\n",
        "Colombia_limpio.to_csv ('/content/drive/MyDrive/Grafica 2/Colombia_limpio.csv')"
      ],
      "metadata": {
        "id": "Y0RKv_O8x3kP"
      },
      "execution_count": 1,
      "outputs": []
    },
    {
      "cell_type": "code",
      "source": [
        "import pandas as pd\n",
        "\n",
        "España = pd.read_csv ('/content/drive/MyDrive/Grafica 2/España.csv')\n",
        "\n",
        "España_limpio= Colombia.drop(['uri', 'source', 'previous_rank'], axis=1)\n",
        "\n",
        "España_limpio.to_csv ('/content/drive/MyDrive/Grafica 2/España_limpio.csv')"
      ],
      "metadata": {
        "id": "GDQdm9X4yE0X"
      },
      "execution_count": null,
      "outputs": []
    },
    {
      "cell_type": "code",
      "source": [
        "import pandas as pd\n",
        "\n",
        "Global = pd.read_csv ('/content/drive/MyDrive/Grafica 2/Global.csv')\n",
        "\n",
        "Global_limpio= Global.drop(['uri', 'source', 'previous_rank'], axis=1)\n",
        "\n",
        "Global_limpio.to_csv ('/content/drive/MyDrive/Grafica 2/Global_limpio.csv')"
      ],
      "metadata": {
        "id": "v5YV9YZxykHi"
      },
      "execution_count": null,
      "outputs": []
    },
    {
      "cell_type": "code",
      "source": [
        "import pandas as pd\n",
        "\n",
        "Guatemala = pd.read_csv ('/content/drive/MyDrive/Grafica 2/Guatemala.csv')\n",
        "\n",
        "Guatemala_limpio= Guatemala.drop(['uri', 'source', 'previous_rank'], axis=1)\n",
        "\n",
        "Guatemala_limpio.to_csv ('/content/drive/MyDrive/Grafica 2/Guatemala_limpio.csv')"
      ],
      "metadata": {
        "id": "rK7TXkKgzNcj"
      },
      "execution_count": null,
      "outputs": []
    },
    {
      "cell_type": "code",
      "source": [
        "import pandas as pd\n",
        "\n",
        "Honduras = pd.read_csv ('/content/drive/MyDrive/Grafica 2/Honduras.csv')\n",
        "\n",
        "Honduras_limpio= Honduras.drop(['uri', 'source', 'previous_rank'], axis=1)\n",
        "\n",
        "Honduras_limpio.to_csv ('/content/drive/MyDrive/Grafica 2/Honduras_limpio.csv')"
      ],
      "metadata": {
        "id": "cEEeHAo5zd4z"
      },
      "execution_count": null,
      "outputs": []
    },
    {
      "cell_type": "code",
      "source": [
        "import pandas as pd\n",
        "\n",
        "Mexico = pd.read_csv ('/content/drive/MyDrive/Grafica 2/Mexico.csv')\n",
        "\n",
        "Mexico_limpio= Mexico.drop(['uri', 'source', 'previous_rank'], axis=1)\n",
        "\n",
        "Mexico_limpio.to_csv ('/content/drive/MyDrive/Grafica 2/Mexico_limpio.csv')"
      ],
      "metadata": {
        "id": "bGmO2VDcz0Er"
      },
      "execution_count": null,
      "outputs": []
    },
    {
      "cell_type": "code",
      "source": [
        "import pandas as pd\n",
        "\n",
        "Perú = pd.read_csv ('/content/drive/MyDrive/Grafica 2/Perú.csv')\n",
        "\n",
        "Perú_limpio= Perú.drop(['uri', 'source', 'previous_rank'], axis=1)\n",
        "\n",
        "Perú_limpio.to_csv ('/content/drive/MyDrive/Grafica 2/Perú_limpio.csv')"
      ],
      "metadata": {
        "id": "bFS8d0Yjz6Ye"
      },
      "execution_count": null,
      "outputs": []
    }
  ]
}