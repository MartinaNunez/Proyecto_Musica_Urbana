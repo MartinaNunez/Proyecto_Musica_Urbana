{
  "nbformat": 4,
  "nbformat_minor": 0,
  "metadata": {
    "colab": {
      "provenance": [],
      "mount_file_id": "1eYCcG77H8_KpwbCe2pMScVy0jbJk66mz",
      "authorship_tag": "ABX9TyM+JWior12m2Y2il5o/1SJ4",
      "include_colab_link": true
    },
    "kernelspec": {
      "name": "python3",
      "display_name": "Python 3"
    },
    "language_info": {
      "name": "python"
    }
  },
  "cells": [
    {
      "cell_type": "markdown",
      "metadata": {
        "id": "view-in-github",
        "colab_type": "text"
      },
      "source": [
        "<a href=\"https://colab.research.google.com/github/MartinaNunez/Proyecto_Musica_Urbana/blob/main/Codigo_Galvez.ipynb\" target=\"_parent\"><img src=\"https://colab.research.google.com/assets/colab-badge.svg\" alt=\"Open In Colab\"/></a>"
      ]
    },
    {
      "cell_type": "code",
      "source": [
        "from google.colab import drive\n",
        "drive.mount('/content/drive')\n",
        "#se importa la libreria de drive y se monta la unidad para el acceso a los archivos.\n"
      ],
      "metadata": {
        "id": "eu9W3Yhqh7Uy"
      },
      "execution_count": null,
      "outputs": []
    },
    {
      "cell_type": "code",
      "execution_count": 23,
      "metadata": {
        "id": "cytNSKXx_8Eq"
      },
      "outputs": [],
      "source": [
        "import pandas as pd\n",
        "#importamos la libreria de pandas como pd.\n",
        "\n",
        "\n",
        "nombres = [\"Argentina\", \"Chile\", \"Colombia\", \"Espana\", \"Guatemala\", \"Honduras\", \"Mexico\", \"Peru\", \"Global\"]\n",
        "#Definimos los nombres de los paises en una lista para ser utilizados en el nombramiento de los archivos.\n",
        "ruta_archivo = '/content/drive/MyDrive/Narración grafica/Top 2020 /'\n",
        "#Agrego los archivos csv a utilizar.\n",
        "datos = [\"regional-ar-weekly-2020-07-02.csv\", \"regional-cl-weekly-2020-07-02.csv\",\n",
        "         \"regional-co-weekly-2020-07-02.csv\", \"regional-es-weekly-2020-07-02.csv\",\n",
        "         \"regional-gt-weekly-2020-07-02.csv\", \"regional-hn-weekly-2020-07-02.csv\",\n",
        "         \"regional-mx-weekly-2020-07-02.csv\", \"regional-pe-weekly-2020-07-02.csv\",\n",
        "         \"regional-global-weekly-2020-07-02.csv\"]\n",
        "#Defino una lista de nombre \"datos\" con las bases de datos a utilizar.\n",
        "\n",
        "\n",
        "for i in range(0,len(nombres)-1): #Creo un ciclo donde recorro el archivo nombres hasta su maximo - 1\n",
        "  df = pd.read_csv(ruta_archivo + datos[i]) #Defino la variable df para trabajar el archivo csv indicando la ruta. Para indicar la ruta concadeno ruta_archivo y el valor de i en la lista nombres.\n",
        "  df = df.drop(['uri', 'source', 'previous_rank'], axis = 1) #Aplico la función df.drop a la variable df, eliminando los datos de las lineas 'uri', 'source' y 'previous_rank', ademas de indicar el axis 1.\n",
        "  df.to_csv(ruta_archivo + \"Resultados/\" + nombres[i] + '2020.csv', index=False) #Creo un archivo csv con el nombre correspondiente al item i de la lista nombres y lo guardo en la carpeta \"/Resultados\"\n",
        "\n",
        "\n",
        "\n",
        "\n",
        "\n",
        "\n"
      ]
    }
  ]
}